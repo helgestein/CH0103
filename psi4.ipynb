{
 "cells": [
  {
   "cell_type": "markdown",
   "metadata": {},
   "source": [
    "# A simple DFT calculation"
   ]
  },
  {
   "cell_type": "code",
   "execution_count": 12,
   "metadata": {},
   "outputs": [],
   "source": [
    "import psi4\n",
    "import numpy as np\n",
    "\n",
    "psi4.set_memory(int(2e9))\n",
    "psi4.core.set_output_file('output.dat', False)\n"
   ]
  },
  {
   "cell_type": "code",
   "execution_count": 32,
   "metadata": {},
   "outputs": [
    {
     "data": {
      "text/plain": [
       "-76.02663646061744"
      ]
     },
     "execution_count": 32,
     "metadata": {},
     "output_type": "execute_result"
    }
   ],
   "source": [
    "psi4.set_memory('500 MB')\n",
    "\n",
    "h2o = psi4.geometry(\"\"\"\n",
    "O\n",
    "H 1 0.96\n",
    "H 1 0.96 2 104.1\n",
    "\"\"\")\n",
    "\n",
    "psi4.energy('scf/cc-pvdz')"
   ]
  },
  {
   "cell_type": "code",
   "execution_count": 14,
   "metadata": {},
   "outputs": [
    {
     "name": "stdout",
     "output_type": "stream",
     "text": [
      "Optimizer: Optimization complete!\n"
     ]
    },
    {
     "data": {
      "text/plain": [
       "-76.02703268911131"
      ]
     },
     "execution_count": 14,
     "metadata": {},
     "output_type": "execute_result"
    }
   ],
   "source": [
    "psi4.set_options({'reference': 'rhf'})\n",
    "psi4.optimize('scf/cc-pvdz', molecule=h2o)"
   ]
  },
  {
   "cell_type": "code",
   "execution_count": 15,
   "metadata": {},
   "outputs": [],
   "source": [
    "scf_e, scf_wfn = psi4.frequency('scf/cc-pvdz', molecule=h2o, return_wfn=True)"
   ]
  },
  {
   "cell_type": "code",
   "execution_count": 16,
   "metadata": {},
   "outputs": [
    {
     "name": "stdout",
     "output_type": "stream",
     "text": [
      "Water has a Energy of -47707.68 kcal/mol\n"
     ]
    }
   ],
   "source": [
    "e = scf_e * psi4.constants.hartree2kcalmol\n",
    "print(\"Water has a Energy of {:.2f} kcal/mol\".format(e))\n"
   ]
  },
  {
   "cell_type": "code",
   "execution_count": 33,
   "metadata": {},
   "outputs": [
    {
     "name": "stdout",
     "output_type": "stream",
     "text": [
      "9\n",
      "\n",
      "C      0.947210   -0.032539    0.006768\n",
      "C     -0.513540   -0.274228   -0.226357\n",
      "O     -1.173341    0.948982    0.011803\n",
      "H      1.402735   -0.752157    0.727744\n",
      "H      1.162151    1.005239    0.378556\n",
      "H      1.457267   -0.114186   -0.976477\n",
      "H     -0.738303   -0.617200   -1.266553\n",
      "H     -0.938713   -1.062133    0.443102\n",
      "H     -1.605466    0.898222    0.901415\n",
      "\n"
     ]
    },
    {
     "data": {
      "image/png": "[encoded data removed]",
      "text/plain": [
       "<Figure size 100x100 with 1 Axes>"
      ]
     },
     "metadata": {},
     "output_type": "display_data"
    },
    {
     "data": {
      "image/png": "[encoded data removed]",
      "text/plain": [
       "<Figure size 100x100 with 1 Axes>"
      ]
     },
     "metadata": {},
     "output_type": "display_data"
    }
   ],
   "source": [
    "from rdkit import Chem\n",
    "from rdkit.Chem import Draw\n",
    "from rdkit.Chem import AllChem\n",
    "import matplotlib.pyplot as plt\n",
    "\n",
    "myMoleculeSMILES = 'CCO'\n",
    "myMolecule = Chem.MolFromSmiles(myMoleculeSMILES)\n",
    "Draw.MolToMPL(myMolecule, size=(100, 100))\n",
    "myMolecule = Chem.AddHs(myMolecule)  # Add implicit hydrogens\n",
    "AllChem.EmbedMolecule(myMolecule) # Embed molecule in 3D space\n",
    "print(Chem.MolToXYZBlock(myMolecule)) # Print coordinates\n",
    "\n",
    "Draw.MolToMPL(myMolecule, size=(100, 100))\n",
    "\n",
    "mol = psi4.geometry(Chem.MolToXYZBlock(myMolecule))"
   ]
  },
  {
   "cell_type": "code",
   "execution_count": 34,
   "metadata": {},
   "outputs": [
    {
     "name": "stderr",
     "output_type": "stream",
     "text": [
      "\tPrevious geometry is closer to target in internal coordinates, so using that one.\n",
      "\n",
      "\tBest geometry has RMS(Delta(q)) = 1.19e-05\n",
      "\n",
      "\tChange in internal coordinate of 5.16e-01 exceeds limit of 5.00e-01.\n",
      "\tSkipping Hessian update for step 2.\n",
      "\tChange in internal coordinate of 5.23e-01 exceeds limit of 5.00e-01.\n",
      "\tSkipping Hessian update for step 1.\n",
      "\tChange in internal coordinate of 6.56e-01 exceeds limit of 5.00e-01.\n",
      "\tSkipping Hessian update for step 3.\n",
      "\tChange in internal coordinate of 8.58e-01 exceeds limit of 5.00e-01.\n",
      "\tSkipping Hessian update for step 2.\n",
      "\tChange in internal coordinate of 8.65e-01 exceeds limit of 5.00e-01.\n",
      "\tSkipping Hessian update for step 1.\n",
      "\tChange in internal coordinate of 8.04e-01 exceeds limit of 5.00e-01.\n",
      "\tSkipping Hessian update for step 3.\n",
      "\tChange in internal coordinate of 1.01e+00 exceeds limit of 5.00e-01.\n",
      "\tSkipping Hessian update for step 2.\n",
      "\tChange in internal coordinate of 1.01e+00 exceeds limit of 5.00e-01.\n",
      "\tSkipping Hessian update for step 1.\n",
      "\tChange in internal coordinate of 6.71e-01 exceeds limit of 5.00e-01.\n",
      "\tSkipping Hessian update for step 4.\n",
      "\tChange in internal coordinate of 8.13e-01 exceeds limit of 5.00e-01.\n",
      "\tSkipping Hessian update for step 3.\n",
      "\tChange in internal coordinate of 1.01e+00 exceeds limit of 5.00e-01.\n",
      "\tSkipping Hessian update for step 2.\n",
      "\tChange in internal coordinate of 1.02e+00 exceeds limit of 5.00e-01.\n",
      "\tSkipping Hessian update for step 1.\n",
      "\tChange in internal coordinate of 6.13e-01 exceeds limit of 5.00e-01.\n",
      "\tSkipping Hessian update for step 5.\n",
      "\tChange in internal coordinate of 7.93e-01 exceeds limit of 5.00e-01.\n",
      "\tSkipping Hessian update for step 4.\n",
      "\tChange in internal coordinate of 8.75e-01 exceeds limit of 5.00e-01.\n",
      "\tSkipping Hessian update for step 3.\n",
      "\tChange in internal coordinate of 9.19e-01 exceeds limit of 5.00e-01.\n",
      "\tSkipping Hessian update for step 2.\n",
      "\tChange in internal coordinate of 9.88e-01 exceeds limit of 5.00e-01.\n",
      "\tSkipping Hessian update for step 1.\n",
      "\tChange in internal coordinate of 6.64e-01 exceeds limit of 5.00e-01.\n",
      "\tSkipping Hessian update for step 5.\n",
      "\tChange in internal coordinate of 8.64e-01 exceeds limit of 5.00e-01.\n",
      "\tSkipping Hessian update for step 4.\n",
      "\tChange in internal coordinate of 9.71e-01 exceeds limit of 5.00e-01.\n",
      "\tSkipping Hessian update for step 3.\n",
      "\tChange in internal coordinate of 1.02e+00 exceeds limit of 5.00e-01.\n",
      "\tSkipping Hessian update for step 2.\n",
      "\tChange in internal coordinate of 1.08e+00 exceeds limit of 5.00e-01.\n",
      "\tSkipping Hessian update for step 1.\n"
     ]
    },
    {
     "name": "stdout",
     "output_type": "stream",
     "text": [
      "Optimizer: Optimization complete!\n"
     ]
    },
    {
     "data": {
      "text/plain": [
       "-154.09263149307012"
      ]
     },
     "execution_count": 34,
     "metadata": {},
     "output_type": "execute_result"
    }
   ],
   "source": [
    "psi4.optimize('scf/cc-pvdz', molecule=mol)"
   ]
  },
  {
   "cell_type": "code",
   "execution_count": 27,
   "metadata": {},
   "outputs": [
    {
     "name": "stdout",
     "output_type": "stream",
     "text": [
      "Warning: used thermodynamics relations inappropriate for low-frequency modes: ['273.4527' '314.6375' '444.6219']\n"
     ]
    }
   ],
   "source": [
    "scf_e, scf_wfn = psi4.frequency('scf/cc-pvdz', molecule=mol, return_wfn=True)"
   ]
  },
  {
   "cell_type": "code",
   "execution_count": 28,
   "metadata": {},
   "outputs": [
    {
     "data": {
      "text/plain": [
       "-154.09268840053312"
      ]
     },
     "execution_count": 28,
     "metadata": {},
     "output_type": "execute_result"
    }
   ],
   "source": [
    "scf_e"
   ]
  },
  {
   "cell_type": "code",
   "execution_count": 59,
   "metadata": {},
   "outputs": [],
   "source": [
    "xyz = psi4.core.Molecule.to_string(mol,dtype='xyz+')\n"
   ]
  },
  {
   "cell_type": "code",
   "execution_count": 81,
   "metadata": {},
   "outputs": [],
   "source": [
    "import psi4\n",
    "from rdkit import Chem\n",
    "from rdkit.Chem import AllChem\n",
    "\n",
    "def calculate_energy(smiles):\n",
    "    # Convert SMILES to RDKit molecule\n",
    "    molecule = Chem.MolFromSmiles(smiles)\n",
    "\n",
    "    # Generate 3D coordinates and convert to XYZ format\n",
    "    molecule = Chem.AddHs(molecule)\n",
    "    AllChem.EmbedMolecule(molecule)\n",
    "    xyz = Chem.MolToXYZBlock(molecule)\n",
    "\n",
    "    # Create PSI4 molecule from XYZ coordinates\n",
    "    mol = psi4.geometry(xyz)\n",
    "\n",
    "    # Perform geometry optimization\n",
    "    psi4.optimize('scf/cc-pvdz', molecule=mol)\n",
    "\n",
    "    # Perform frequency calculation\n",
    "    scf_e, scf_wfn = psi4.frequency('scf/cc-pvdz', molecule=mol, return_wfn=True)\n",
    "\n",
    "    # Convert energy to kJ/mol\n",
    "    e = scf_e * psi4.constants.hartree2kJmol\n",
    "\n",
    "    return e\n"
   ]
  },
  {
   "cell_type": "code",
   "execution_count": 82,
   "metadata": {},
   "outputs": [
    {
     "name": "stdout",
     "output_type": "stream",
     "text": [
      "Optimizer: Optimization complete!\n",
      "Optimizer: Optimization complete!\n",
      "Optimizer: Optimization complete!\n"
     ]
    },
    {
     "name": "stderr",
     "output_type": "stream",
     "text": [
      "\n",
      "\tThe following linear bends should be present:\n",
      "  L(2,1,3), already present.\n",
      "\t l(2,1,3), already present.\n",
      "\n",
      "AlgError: Exception created. Mesg: New linear angles\n",
      "AlgError: New bends detected.\n",
      "\n",
      " Caught AlgError exception\n",
      "\n",
      " Erasing history.\n",
      "\n"
     ]
    },
    {
     "name": "stdout",
     "output_type": "stream",
     "text": [
      "Optimizer: Optimization complete!\n"
     ]
    }
   ],
   "source": [
    "O2 = calculate_energy(\"[O][O]\")\n",
    "H2O = calculate_energy(\"O\")\n",
    "CH4 = calculate_energy(\"C\")\n",
    "CO2 = calculate_energy(\"C(=O)=O\")\n",
    "\n"
   ]
  },
  {
   "cell_type": "code",
   "execution_count": 83,
   "metadata": {},
   "outputs": [],
   "source": [
    "educts = CH4+2*O2\n",
    "products = CO2+2*H2O"
   ]
  },
  {
   "cell_type": "code",
   "execution_count": 84,
   "metadata": {},
   "outputs": [
    {
     "data": {
      "text/plain": [
       "-1083.6414877256611"
      ]
     },
     "execution_count": 84,
     "metadata": {},
     "output_type": "execute_result"
    }
   ],
   "source": [
    "products-educts"
   ]
  }
 ],
 "metadata": {
  "kernelspec": {
   "display_name": "base",
   "language": "python",
   "name": "python3"
  },
  "language_info": {
   "codemirror_mode": {
    "name": "ipython",
    "version": 3
   },
   "file_extension": ".py",
   "mimetype": "text/x-python",
   "name": "python",
   "nbconvert_exporter": "python",
   "pygments_lexer": "ipython3",
   "version": "3.10.10"
  }
 },
 "nbformat": 4,
 "nbformat_minor": 2
}
